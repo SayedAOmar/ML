{
 "cells": [
  {
   "cell_type": "markdown",
   "metadata": {},
   "source": [
    "# Data Scoring\n",
    "I'll generate a dummy data with linear relation formed of 1 independent variable and other dependant variable"
   ]
  },
  {
   "cell_type": "code",
   "execution_count": 1,
   "metadata": {},
   "outputs": [],
   "source": [
    "import numpy as np\n",
    "import matplotlib.pyplot as plt"
   ]
  },
  {
   "cell_type": "code",
   "execution_count": 2,
   "metadata": {},
   "outputs": [],
   "source": [
    "x = 2 * np.random.rand(100, 1)\n",
    "y = 4 + 3 * x + np.random.randn(100, 1)"
   ]
  },
  {
   "cell_type": "code",
   "execution_count": 3,
   "metadata": {},
   "outputs": [
    {
     "data": {
      "text/plain": [
       "array([[1.86750711],\n",
       "       [1.82443773],\n",
       "       [1.9632382 ],\n",
       "       [0.07162541],\n",
       "       [0.79649507],\n",
       "       [0.73410792],\n",
       "       [0.85285251],\n",
       "       [0.22575351],\n",
       "       [1.72894122],\n",
       "       [1.36444381]])"
      ]
     },
     "execution_count": 3,
     "metadata": {},
     "output_type": "execute_result"
    }
   ],
   "source": [
    "x[:10]"
   ]
  },
  {
   "cell_type": "code",
   "execution_count": 4,
   "metadata": {},
   "outputs": [
    {
     "data": {
      "text/plain": [
       "((100, 1), (100, 1))"
      ]
     },
     "execution_count": 4,
     "metadata": {},
     "output_type": "execute_result"
    }
   ],
   "source": [
    "x.shape,y.shape "
   ]
  },
  {
   "cell_type": "markdown",
   "metadata": {},
   "source": [
    "# Data Visualization\n",
    "let we visualize this data"
   ]
  },
  {
   "cell_type": "code",
   "execution_count": 5,
   "metadata": {},
   "outputs": [
    {
     "data": {
      "image/png": "[encoded data removed]",
      "text/plain": [
       "<Figure size 432x288 with 1 Axes>"
      ]
     },
     "metadata": {
      "needs_background": "light"
     },
     "output_type": "display_data"
    }
   ],
   "source": [
    "plt.plot(x, y, \"b.\")\n",
    "plt.show()"
   ]
  },
  {
   "cell_type": "markdown",
   "metadata": {},
   "source": [
    "## There are two ways to implement the Linear Regression\n",
    "- Normal Equation\n",
    "- Gradient Descent"
   ]
  },
  {
   "cell_type": "markdown",
   "metadata": {},
   "source": [
    "# 1- Normal Equation"
   ]
  },
  {
   "cell_type": "markdown",
   "metadata": {},
   "source": [
    "As we know, the line equation is: y = m x + b  where:\n",
    "- m : Slope of the line\n",
    "- x : the independent variable\n",
    "- b : the intercept between the line and dependent variable axis (sometimes called y)"
   ]
  },
  {
   "cell_type": "markdown",
   "metadata": {},
   "source": [
    "We will use this equation to generate a line across the points in the graph, in which be in the average of this point (not completly true) to minimize the total error or regression\n",
    "- is there an error?\n",
    "- Of course yes, but we try to minimize it as possible"
   ]
  },
  {
   "cell_type": "markdown",
   "metadata": {},
   "source": [
    "to use this equation, we have to know the m and b to be able to predict the value of y given the value of x.\n",
    "So, how can we estimate it?"
   ]
  },
  {
   "cell_type": "markdown",
   "metadata": {},
   "source": [
    "let's form a linear algebra expression from this equation: \n",
    "- y = m x + b  to be \n",
    "- y = theta0 + theta1 x\n",
    "<img src=\"../../Assets/img/lr1.png\" >\n",
    "<img src=\"\">\n",
    "- as per linear algebra, we can write the following formula to represent the previous one\n",
    "<img src=\"\">\n",
    "<img src=\"../../Assets/img/lr2.png\" >\n",
    "- we noticed that the theta vector has two values, and the X vector has 1 column only. it will cause a problem in dot product. but by go back through the line equation (y = theta0 + theta1 * X) we can get that value of X multiplied by theta0 is 1. So we can write theta vector as [theta0 , theta1] and X as [1 , X].\n",
    "- if the X vector has more than row, we have to add column contains 1 to keep the equation true and to avoid the dot product problem due to length."
   ]
  },
  {
   "cell_type": "markdown",
   "metadata": {},
   "source": [
    "where:\n",
    "- theta ^ T : the vector contains all coefficients of the equation (m , b) or (theta1,theta0)\n",
    "- X         : the vector or matrix contain the values of independent variable , and we will take an example to clarify what it represent.\n",
    "---\n",
    "now, we have an equation , but we missed theta vector.\n",
    "So, we have to find it.\n",
    "- at training phase, we know X & y \n",
    "- what is the value of theta vector??\n",
    "---\n",
    "we need to form a relation between the well known parts of equation to find the unkown part, we need to get theta vector in a side alone.\n"
   ]
  },
  {
   "cell_type": "markdown",
   "metadata": {},
   "source": [
    "<b>to get theta alone</b> we have to remove X from this side, but it multiplied with it!. how can we devide by X in linear algebra?\n",
    "\n",
    "---\n",
    "sure, we have to multiply with the inverse of X, but the inverse require the matrix to be square, what we can do?\n",
    "\n",
    "--- \n",
    "we can multiply with the transpose of X to be :\n",
    "\n",
    "<img src=\"../../Assets/img/lr3.png\" >\n",
    "<img src=\"\">\n",
    "- to keep theta^T alone, we will multiply by (X^T . X)^-1 which called the inverse to be\n",
    "<img src=\"\">\n",
    "<img src=\"../../Assets/img/lr4.png\" >\n",
    "<img src=\"\">\n",
    "\n",
    "- the final result will be \n",
    "<img src=\"\">\n",
    "<img src=\"../../Assets/img/lr5.png\" >\n",
    "<img src=\"\">\n",
    "- we can write it as:\n",
    "\n",
    "<img src=\"\">\n",
    "<img src=\"../../Assets/img/lr6.png\" >\n",
    "<img src=\"\"> \n",
    "- as the theta vector is 1d values, we can remove the T sign to be:\n",
    "<img src=\"\">\n",
    "<img src=\"../../Assets/img/lr7.png\" >\n",
    "<img src=\"\"> \n",
    "- let we write a code to solve this equation:"
   ]
  },
  {
   "cell_type": "markdown",
   "metadata": {},
   "source": [
    "#### 1- Add column with 1 values\n",
    "it have to be in the same number of rows of the original vector.\n",
    "So, how can i get the shape of the matrix or vector?"
   ]
  },
  {
   "cell_type": "code",
   "execution_count": 6,
   "metadata": {},
   "outputs": [
    {
     "data": {
      "text/plain": [
       "(100, 1)"
      ]
     },
     "execution_count": 6,
     "metadata": {},
     "output_type": "execute_result"
    }
   ],
   "source": [
    "x.shape"
   ]
  },
  {
   "cell_type": "markdown",
   "metadata": {},
   "source": [
    "in this case, the X contain a one column with 100 row, another case X can be more than column and rows.\n",
    "How can we get number of rows only?"
   ]
  },
  {
   "cell_type": "code",
   "execution_count": 7,
   "metadata": {},
   "outputs": [
    {
     "data": {
      "text/plain": [
       "100"
      ]
     },
     "execution_count": 7,
     "metadata": {},
     "output_type": "execute_result"
    }
   ],
   "source": [
    "rows_num = x.shape[0]\n",
    "rows_num"
   ]
  },
  {
   "cell_type": "markdown",
   "metadata": {},
   "source": [
    "we need to generate the column with the shape of (rows,1).\n",
    "there are many wethods to make it.\n",
    "- using .ones function in numpy\n",
    "- using .full function in numpy"
   ]
  },
  {
   "cell_type": "code",
   "execution_count": 8,
   "metadata": {},
   "outputs": [],
   "source": [
    "np.full((rows_num,1),1)\n",
    "ones = np.ones((rows_num,1)) "
   ]
  },
  {
   "cell_type": "markdown",
   "metadata": {},
   "source": [
    "we generate the ones column, now we have to add it to the original X vector"
   ]
  },
  {
   "cell_type": "code",
   "execution_count": 9,
   "metadata": {},
   "outputs": [],
   "source": [
    "X_ = np.hstack((ones,x))"
   ]
  },
  {
   "cell_type": "markdown",
   "metadata": {},
   "source": [
    "#### 2- build model equation"
   ]
  },
  {
   "cell_type": "markdown",
   "metadata": {},
   "source": [
    "now we are ready to implement our model equation ."
   ]
  },
  {
   "cell_type": "code",
   "execution_count": 10,
   "metadata": {},
   "outputs": [
    {
     "data": {
      "text/plain": [
       "array([[4.05237919],\n",
       "       [3.05259439]])"
      ]
     },
     "execution_count": 10,
     "metadata": {},
     "output_type": "execute_result"
    }
   ],
   "source": [
    "theta =  np.linalg.inv(X_.T.dot(X_)).dot(X_.T).dot(y) # np.linalg.inv(X_b.T.dot(X_b)).dot(X_b.T).dot(y)\n",
    "theta"
   ]
  },
  {
   "cell_type": "markdown",
   "metadata": {},
   "source": [
    "Now, \n",
    "- we have the theta vector, but I can't understand this values.\n",
    "- easly, find the order of your columns in X vector, and get the opposite in theta vector.\n",
    "- Ex. : we added the ones column to be the first column in X_ and it is opposite to theta0. So, the theta0 value will be the first value in theta vector (6.91948246) and the second column in X_ was the x values which opposite to theta1 value."
   ]
  },
  {
   "cell_type": "code",
   "execution_count": 11,
   "metadata": {},
   "outputs": [
    {
     "data": {
      "text/plain": [
       "(3.05259438619516, 4.052379188895197)"
      ]
     },
     "execution_count": 11,
     "metadata": {},
     "output_type": "execute_result"
    }
   ],
   "source": [
    "b = theta[0][0]\n",
    "m = theta[1][0]\n",
    "m,b"
   ]
  },
  {
   "cell_type": "markdown",
   "metadata": {},
   "source": [
    "#### 3- Prediction"
   ]
  },
  {
   "cell_type": "markdown",
   "metadata": {},
   "source": [
    "by estimate the value of m & b, we can predict any value of y given any value of x\n",
    "we can use two methods:\n",
    "- using ordinary equation\n",
    "- using linear algebra dot product"
   ]
  },
  {
   "cell_type": "code",
   "execution_count": 12,
   "metadata": {},
   "outputs": [],
   "source": [
    "def predict(x):\n",
    "    y = m*x + b\n",
    "    return y\n",
    "    "
   ]
  },
  {
   "cell_type": "code",
   "execution_count": 13,
   "metadata": {},
   "outputs": [],
   "source": [
    "def predict(x):\n",
    "    x = np.array([1,x])\n",
    "    y = x.dot(theta)\n",
    "    return y[0]"
   ]
  },
  {
   "cell_type": "code",
   "execution_count": 14,
   "metadata": {},
   "outputs": [
    {
     "data": {
      "text/plain": [
       "461.9415371181692"
      ]
     },
     "execution_count": 14,
     "metadata": {},
     "output_type": "execute_result"
    }
   ],
   "source": [
    "predict(150)"
   ]
  },
  {
   "cell_type": "markdown",
   "metadata": {},
   "source": [
    "#### 4- Visualize the best fit line"
   ]
  },
  {
   "cell_type": "code",
   "execution_count": 15,
   "metadata": {},
   "outputs": [],
   "source": [
    "def la_predict(x):\n",
    "    y = x.dot(theta)\n",
    "    return y"
   ]
  },
  {
   "cell_type": "code",
   "execution_count": 16,
   "metadata": {},
   "outputs": [
    {
     "data": {
      "image/png": "[encoded data removed]",
      "text/plain": [
       "<Figure size 432x288 with 1 Axes>"
      ]
     },
     "metadata": {
      "needs_background": "light"
     },
     "output_type": "display_data"
    }
   ],
   "source": [
    "plt.plot(x, la_predict(X_), \"r-\")\n",
    "plt.plot(x, y, \"b.\")\n",
    "plt.show()"
   ]
  },
  {
   "cell_type": "markdown",
   "metadata": {},
   "source": [
    "### Disadventages of Normal equation \n",
    "normal equation is slower when the number of features n goes up. In practice, when n exceeds 10,000 features, you can improve the computational efficiency by choosing an iterative algorithm such as gradient descent over the normal equation.\n",
    "The problem with this operation is the time complexity of calculating the inverse of a nxn matrix which is O(n^3) and as n increases it can take a very long time to finish."
   ]
  },
  {
   "cell_type": "markdown",
   "metadata": {},
   "source": [
    "# 2- Gradient Descent\n",
    "--------------\n",
    "To explain in brief about gradient descent, imagine that you are on a mountain and are blindfolded and your task is to come down from the mountain to the flat land without assistance. The only assistance you have is a gadget which tells you the height from sea-level. What would be your approach be. You would start to descend in some random direction and then ask the gadget what is the height now. If the gadget tells you that height and it is more than the initial height then you know you started in wrong direction. You change the direction and repeat the process. This way in many iterations finally you successfully descend down.\n",
    "\n",
    "-------------\n",
    "Well here is the analogy with machine learning terms now:\n",
    "- Size of Steps took in any direction = Learning rate\n",
    "- Gadget tells you height = Cost function\n",
    "- The direction of your steps = Gradients\n",
    "\n",
    "-----------------\n",
    "<img src=\"../../Assets/img/gd.png\">\n",
    "\n",
    "------------------\n",
    "<img src=\"../../Assets/img/gd_1.png\">\n",
    "where alpha = Learning Rate\n",
    "\n",
    "<a href=\"https://towardsdatascience.com/gradient-descent-in-python-a0d07285742f\">source Here</a>"
   ]
  },
  {
   "cell_type": "markdown",
   "metadata": {},
   "source": [
    "### Cost Function "
   ]
  },
  {
   "cell_type": "code",
   "execution_count": 17,
   "metadata": {},
   "outputs": [],
   "source": [
    "def cal_cost(theta,x,y):\n",
    "    m = len(y)\n",
    "    predictions = x.dot(theta)\n",
    "    cost = (1/2*m) * np.sum(np.square(predictions - y))\n",
    "    return cost"
   ]
  },
  {
   "cell_type": "markdown",
   "metadata": {},
   "source": [
    "### Gradient Descent Function "
   ]
  },
  {
   "cell_type": "code",
   "execution_count": 18,
   "metadata": {},
   "outputs": [],
   "source": [
    "def gradient_descent(X,y,theta,learning_rate=0.01,iterations = 1000):\n",
    "    m = len(y)\n",
    "    cost_history = np.zeros(iterations)\n",
    "    theta_history= np.zeros((iterations,2))\n",
    "    for i in range(iterations):\n",
    "        prediction = np.dot(X,theta)\n",
    "        theta = theta - (1/m)*learning_rate * (X.T.dot((prediction - y)))\n",
    "        theta_history[i,:] = theta.T\n",
    "        cost_history[i] = cal_cost(theta,X,y)\n",
    "        plt.plot(X[:,1].reshape(-1,1),theta.T.dot(X.T).T,'r',zorder=1)\n",
    "    plt.scatter(X[:,1].reshape(-1,1),y,zorder=2)\n",
    "    plt.show()\n",
    "    return theta,cost_history,theta_history"
   ]
  },
  {
   "cell_type": "code",
   "execution_count": 19,
   "metadata": {},
   "outputs": [
    {
     "data": {
      "image/png": "[encoded data removed]",
      "text/plain": [
       "<Figure size 432x288 with 1 Axes>"
      ]
     },
     "metadata": {
      "needs_background": "light"
     },
     "output_type": "display_data"
    },
    {
     "name": "stdout",
     "output_type": "stream",
     "text": [
      "Theta:  [[3.83031616]\n",
      " [3.24433526]]\n"
     ]
    }
   ],
   "source": [
    "theta = np.random.randn(2,1)\n",
    "theta,cost_history,theta_history  = gradient_descent(X_,y,theta)\n",
    "print(\"Theta: \",theta)"
   ]
  },
  {
   "cell_type": "markdown",
   "metadata": {},
   "source": [
    "### Visualize the cost function value over iterations"
   ]
  },
  {
   "cell_type": "code",
   "execution_count": 20,
   "metadata": {},
   "outputs": [
    {
     "data": {
      "text/plain": [
       "[<matplotlib.lines.Line2D at 0x16666016ef0>]"
      ]
     },
     "execution_count": 20,
     "metadata": {},
     "output_type": "execute_result"
    },
    {
     "data": {
      "image/png": "[encoded data removed]",
      "text/plain": [
       "<Figure size 432x288 with 1 Axes>"
      ]
     },
     "metadata": {
      "needs_background": "light"
     },
     "output_type": "display_data"
    }
   ],
   "source": [
    "plt.plot(range(1000),cost_history,'r')"
   ]
  },
  {
   "cell_type": "markdown",
   "metadata": {},
   "source": [
    "### Visualize the value of the theta over iterations"
   ]
  },
  {
   "cell_type": "code",
   "execution_count": 21,
   "metadata": {},
   "outputs": [
    {
     "data": {
      "text/plain": [
       "[<matplotlib.lines.Line2D at 0x166657fed68>,\n",
       " <matplotlib.lines.Line2D at 0x16665820be0>]"
      ]
     },
     "execution_count": 21,
     "metadata": {},
     "output_type": "execute_result"
    },
    {
     "data": {
      "image/png": "[encoded data removed]",
      "text/plain": [
       "<Figure size 432x288 with 1 Axes>"
      ]
     },
     "metadata": {
      "needs_background": "light"
     },
     "output_type": "display_data"
    }
   ],
   "source": [
    "plt.plot(range(1000),theta_history)"
   ]
  },
  {
   "cell_type": "code",
   "execution_count": null,
   "metadata": {},
   "outputs": [],
   "source": []
  }
 ],
 "metadata": {
  "kernelspec": {
   "display_name": "Python 3",
   "language": "python",
   "name": "python3"
  },
  "language_info": {
   "codemirror_mode": {
    "name": "ipython",
    "version": 3
   },
   "file_extension": ".py",
   "mimetype": "text/x-python",
   "name": "python",
   "nbconvert_exporter": "python",
   "pygments_lexer": "ipython3",
   "version": "3.7.3"
  }
 },
 "nbformat": 4,
 "nbformat_minor": 2
}
